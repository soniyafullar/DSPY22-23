{
  "nbformat": 4,
  "nbformat_minor": 0,
  "metadata": {
    "colab": {
      "provenance": [],
      "authorship_tag": "ABX9TyPyYsanbwYwJlc8lAaS0xzO",
      "include_colab_link": true
    },
    "kernelspec": {
      "name": "python3",
      "display_name": "Python 3"
    },
    "language_info": {
      "name": "python"
    }
  },
  "cells": [
    {
      "cell_type": "markdown",
      "metadata": {
        "id": "view-in-github",
        "colab_type": "text"
      },
      "source": [
        "<a href=\"https://colab.research.google.com/github/soniyafullar/DS_PY_Writeups_2102613/blob/main/Expt09_2102613_DSPY_MINIPROJECT.ipynb\" target=\"_parent\"><img src=\"https://colab.research.google.com/assets/colab-badge.svg\" alt=\"Open In Colab\"/></a>"
      ]
    },
    {
      "cell_type": "markdown",
      "source": [
        "**#1. Define your Problem statement and ML technique II(two) you propose to use.**\n",
        "\n",
        "Hierarchical clustering\n",
        "Hierarchical clustering (also called hierarchical cluster analysis or HCA) is a method of cluster analysis which seeks to build a hierarchy of clusters. Strategies for hierarchical clustering generally fall into two types:\n",
        "\n",
        "Agglomerative : This is a \"bottom-up\" approach: each observation starts in its own cluster, and pairs of clusters are merged as one moves up the hierarchy.\n",
        "Divisive : This is a \"top-down\" approach: all observations start in one cluster, and splits are performed recursively as one moves down the hierarchy.\n",
        "In general, the merges and splits are determined in a greedy manner. The results of hierarchical clustering are usually presented in a dendrogram.\n",
        "\n",
        "**#Agglomerative Hierarchical clustering**\n",
        "The agglomerative hierarchical clustering algorithm is a popular example of HCA. To group the datasets into clusters, it follows the bottom-up approach. It means, this algorithm considers each dataset as a single cluster at the beginning, and then start combining the closest pair of clusters together. It does this until all the clusters are merged into a single cluster that contains all the datasets.\n",
        "\n",
        "This hierarchy of clusters is represented in the form of the dendrogram.\n",
        "Initially each data point is considered as an individual cluster. At each iteration, the similar clusters merge with other clusters until 1/ K clusters are formed.\n",
        "\n",
        "The main advantage is that we don’t need to specify the number of clusters, this comes with a price: performance  O(n3)\n",
        " . In sklearn’s implementation, we can specify the number of clusters to assist the algorithm’s performance.\n",
        "\n",
        " Hierarchical clustering is another unsupervised machine learning algorithm, which is used to group the unlabeled datasets into a cluster and also known as hierarchical cluster analysis or HCA.\n",
        "\n",
        "In this algorithm, we develop the hierarchy of clusters in the form of a tree, and this tree-shaped structure is known as the dendrogram.\n",
        "\n",
        "Sometimes the results of K-means clustering and hierarchical clustering may look similar, but they both differ depending on how they work. As there is no requirement to predetermine the number of clusters as we did in the K-Means algorithm."
      ],
      "metadata": {
        "id": "1LegN0wU5pRa"
      }
    },
    {
      "cell_type": "markdown",
      "source": [
        "#**2. Write about working of ML technique II you have proposed.**\n",
        "The working of the AHC algorithm can be explained using the below steps:\n",
        "\n",
        "Step-1: Create each data point as a single cluster. Let's say there are N data points, so the number of clusters will also be N.\n",
        "\n",
        "Step-2: Take two closest data points or clusters and merge them to form one cluster. So, there will now be N-1 clusters.\n",
        "\n",
        "Step-3: Again, take the two closest clusters and merge them together to form one cluster. There will be N-2 clusters.\n",
        "\n",
        "Step-4: Repeat Step 3 until only one cluster left. \n",
        "\n",
        "Step-5: Once all the clusters are combined into one big cluster, develop the dendrogram to divide the clusters as per the problem."
      ],
      "metadata": {
        "id": "YBvSg4OyR2NI"
      }
    },
    {
      "cell_type": "markdown",
      "source": [
        "**#3. Pull your chosen data set from experiment 7**\n"
      ],
      "metadata": {
        "id": "ZTPfDVto-BfZ"
      }
    },
    {
      "cell_type": "code",
      "source": [
        "pip install pandas"
      ],
      "metadata": {
        "colab": {
          "base_uri": "https://localhost:8080/"
        },
        "id": "POX7j3jI-BCp",
        "outputId": "057d599b-5f18-43cf-a92d-240ceff1a1eb"
      },
      "execution_count": 1,
      "outputs": [
        {
          "output_type": "stream",
          "name": "stdout",
          "text": [
            "Looking in indexes: https://pypi.org/simple, https://us-python.pkg.dev/colab-wheels/public/simple/\n",
            "Requirement already satisfied: pandas in /usr/local/lib/python3.9/dist-packages (1.5.3)\n",
            "Requirement already satisfied: numpy>=1.20.3 in /usr/local/lib/python3.9/dist-packages (from pandas) (1.22.4)\n",
            "Requirement already satisfied: pytz>=2020.1 in /usr/local/lib/python3.9/dist-packages (from pandas) (2022.7.1)\n",
            "Requirement already satisfied: python-dateutil>=2.8.1 in /usr/local/lib/python3.9/dist-packages (from pandas) (2.8.2)\n",
            "Requirement already satisfied: six>=1.5 in /usr/local/lib/python3.9/dist-packages (from python-dateutil>=2.8.1->pandas) (1.16.0)\n"
          ]
        }
      ]
    },
    {
      "cell_type": "code",
      "source": [
        "import pandas \n",
        "pandas.__version__"
      ],
      "metadata": {
        "colab": {
          "base_uri": "https://localhost:8080/",
          "height": 36
        },
        "id": "E_YesuAQ-oXD",
        "outputId": "a6d98a59-eb24-4434-a56d-1d272f8ea513"
      },
      "execution_count": 3,
      "outputs": [
        {
          "output_type": "execute_result",
          "data": {
            "text/plain": [
              "'1.5.3'"
            ],
            "application/vnd.google.colaboratory.intrinsic+json": {
              "type": "string"
            }
          },
          "metadata": {},
          "execution_count": 3
        }
      ]
    },
    {
      "cell_type": "code",
      "source": [
        "import pandas as pd"
      ],
      "metadata": {
        "id": "lEJjrd1Q-bQ7"
      },
      "execution_count": 2,
      "outputs": []
    },
    {
      "cell_type": "code",
      "source": [
        "#import numpy and pandas"
      ],
      "metadata": {
        "id": "c3wEI1kL-rTB"
      },
      "execution_count": 4,
      "outputs": []
    },
    {
      "cell_type": "code",
      "source": [
        "# read file\n",
        "data=pd.read_csv('/content/sample_data/BREASTCANCER.csv')\n",
        "print('the values',data.columns.values)\n",
        "data.head()"
      ],
      "metadata": {
        "colab": {
          "base_uri": "https://localhost:8080/",
          "height": 241
        },
        "id": "tEX9LOE6_KQd",
        "outputId": "bcecf92f-31af-4796-ced4-5a0a273d8a3a"
      },
      "execution_count": 5,
      "outputs": [
        {
          "output_type": "stream",
          "name": "stdout",
          "text": [
            "the values ['age' 'bmi' 'glucose' 'insulin' 'homa' 'leptin' 'adiponectin' 'resistin'\n",
            " 'mcp_1' 'classification']\n"
          ]
        },
        {
          "output_type": "execute_result",
          "data": {
            "text/plain": [
              "   age        bmi  glucose  insulin      homa   leptin  adiponectin  resistin  \\\n",
              "0   48  23.500000       70    2.707  0.467409   8.8071     9.702400   7.99585   \n",
              "1   83  20.690495       92    3.115  0.706897   8.8438     5.429285   4.06405   \n",
              "2   82  23.124670       91    4.498  1.009651  17.9393    22.432040   9.27715   \n",
              "3   68  21.367521       77    3.226  0.612725   9.8827     7.169560  12.76600   \n",
              "4   86  21.111111       92    3.549  0.805386   6.6994     4.819240  10.57635   \n",
              "\n",
              "     mcp_1  classification  \n",
              "0  417.114               1  \n",
              "1  468.786               1  \n",
              "2  554.697               1  \n",
              "3  928.220               1  \n",
              "4  773.920               1  "
            ],
            "text/html": [
              "\n",
              "  <div id=\"df-100ee949-51d1-48d6-a960-984412c15a27\">\n",
              "    <div class=\"colab-df-container\">\n",
              "      <div>\n",
              "<style scoped>\n",
              "    .dataframe tbody tr th:only-of-type {\n",
              "        vertical-align: middle;\n",
              "    }\n",
              "\n",
              "    .dataframe tbody tr th {\n",
              "        vertical-align: top;\n",
              "    }\n",
              "\n",
              "    .dataframe thead th {\n",
              "        text-align: right;\n",
              "    }\n",
              "</style>\n",
              "<table border=\"1\" class=\"dataframe\">\n",
              "  <thead>\n",
              "    <tr style=\"text-align: right;\">\n",
              "      <th></th>\n",
              "      <th>age</th>\n",
              "      <th>bmi</th>\n",
              "      <th>glucose</th>\n",
              "      <th>insulin</th>\n",
              "      <th>homa</th>\n",
              "      <th>leptin</th>\n",
              "      <th>adiponectin</th>\n",
              "      <th>resistin</th>\n",
              "      <th>mcp_1</th>\n",
              "      <th>classification</th>\n",
              "    </tr>\n",
              "  </thead>\n",
              "  <tbody>\n",
              "    <tr>\n",
              "      <th>0</th>\n",
              "      <td>48</td>\n",
              "      <td>23.500000</td>\n",
              "      <td>70</td>\n",
              "      <td>2.707</td>\n",
              "      <td>0.467409</td>\n",
              "      <td>8.8071</td>\n",
              "      <td>9.702400</td>\n",
              "      <td>7.99585</td>\n",
              "      <td>417.114</td>\n",
              "      <td>1</td>\n",
              "    </tr>\n",
              "    <tr>\n",
              "      <th>1</th>\n",
              "      <td>83</td>\n",
              "      <td>20.690495</td>\n",
              "      <td>92</td>\n",
              "      <td>3.115</td>\n",
              "      <td>0.706897</td>\n",
              "      <td>8.8438</td>\n",
              "      <td>5.429285</td>\n",
              "      <td>4.06405</td>\n",
              "      <td>468.786</td>\n",
              "      <td>1</td>\n",
              "    </tr>\n",
              "    <tr>\n",
              "      <th>2</th>\n",
              "      <td>82</td>\n",
              "      <td>23.124670</td>\n",
              "      <td>91</td>\n",
              "      <td>4.498</td>\n",
              "      <td>1.009651</td>\n",
              "      <td>17.9393</td>\n",
              "      <td>22.432040</td>\n",
              "      <td>9.27715</td>\n",
              "      <td>554.697</td>\n",
              "      <td>1</td>\n",
              "    </tr>\n",
              "    <tr>\n",
              "      <th>3</th>\n",
              "      <td>68</td>\n",
              "      <td>21.367521</td>\n",
              "      <td>77</td>\n",
              "      <td>3.226</td>\n",
              "      <td>0.612725</td>\n",
              "      <td>9.8827</td>\n",
              "      <td>7.169560</td>\n",
              "      <td>12.76600</td>\n",
              "      <td>928.220</td>\n",
              "      <td>1</td>\n",
              "    </tr>\n",
              "    <tr>\n",
              "      <th>4</th>\n",
              "      <td>86</td>\n",
              "      <td>21.111111</td>\n",
              "      <td>92</td>\n",
              "      <td>3.549</td>\n",
              "      <td>0.805386</td>\n",
              "      <td>6.6994</td>\n",
              "      <td>4.819240</td>\n",
              "      <td>10.57635</td>\n",
              "      <td>773.920</td>\n",
              "      <td>1</td>\n",
              "    </tr>\n",
              "  </tbody>\n",
              "</table>\n",
              "</div>\n",
              "      <button class=\"colab-df-convert\" onclick=\"convertToInteractive('df-100ee949-51d1-48d6-a960-984412c15a27')\"\n",
              "              title=\"Convert this dataframe to an interactive table.\"\n",
              "              style=\"display:none;\">\n",
              "        \n",
              "  <svg xmlns=\"http://www.w3.org/2000/svg\" height=\"24px\"viewBox=\"0 0 24 24\"\n",
              "       width=\"24px\">\n",
              "    <path d=\"M0 0h24v24H0V0z\" fill=\"none\"/>\n",
              "    <path d=\"M18.56 5.44l.94 2.06.94-2.06 2.06-.94-2.06-.94-.94-2.06-.94 2.06-2.06.94zm-11 1L8.5 8.5l.94-2.06 2.06-.94-2.06-.94L8.5 2.5l-.94 2.06-2.06.94zm10 10l.94 2.06.94-2.06 2.06-.94-2.06-.94-.94-2.06-.94 2.06-2.06.94z\"/><path d=\"M17.41 7.96l-1.37-1.37c-.4-.4-.92-.59-1.43-.59-.52 0-1.04.2-1.43.59L10.3 9.45l-7.72 7.72c-.78.78-.78 2.05 0 2.83L4 21.41c.39.39.9.59 1.41.59.51 0 1.02-.2 1.41-.59l7.78-7.78 2.81-2.81c.8-.78.8-2.07 0-2.86zM5.41 20L4 18.59l7.72-7.72 1.47 1.35L5.41 20z\"/>\n",
              "  </svg>\n",
              "      </button>\n",
              "      \n",
              "  <style>\n",
              "    .colab-df-container {\n",
              "      display:flex;\n",
              "      flex-wrap:wrap;\n",
              "      gap: 12px;\n",
              "    }\n",
              "\n",
              "    .colab-df-convert {\n",
              "      background-color: #E8F0FE;\n",
              "      border: none;\n",
              "      border-radius: 50%;\n",
              "      cursor: pointer;\n",
              "      display: none;\n",
              "      fill: #1967D2;\n",
              "      height: 32px;\n",
              "      padding: 0 0 0 0;\n",
              "      width: 32px;\n",
              "    }\n",
              "\n",
              "    .colab-df-convert:hover {\n",
              "      background-color: #E2EBFA;\n",
              "      box-shadow: 0px 1px 2px rgba(60, 64, 67, 0.3), 0px 1px 3px 1px rgba(60, 64, 67, 0.15);\n",
              "      fill: #174EA6;\n",
              "    }\n",
              "\n",
              "    [theme=dark] .colab-df-convert {\n",
              "      background-color: #3B4455;\n",
              "      fill: #D2E3FC;\n",
              "    }\n",
              "\n",
              "    [theme=dark] .colab-df-convert:hover {\n",
              "      background-color: #434B5C;\n",
              "      box-shadow: 0px 1px 3px 1px rgba(0, 0, 0, 0.15);\n",
              "      filter: drop-shadow(0px 1px 2px rgba(0, 0, 0, 0.3));\n",
              "      fill: #FFFFFF;\n",
              "    }\n",
              "  </style>\n",
              "\n",
              "      <script>\n",
              "        const buttonEl =\n",
              "          document.querySelector('#df-100ee949-51d1-48d6-a960-984412c15a27 button.colab-df-convert');\n",
              "        buttonEl.style.display =\n",
              "          google.colab.kernel.accessAllowed ? 'block' : 'none';\n",
              "\n",
              "        async function convertToInteractive(key) {\n",
              "          const element = document.querySelector('#df-100ee949-51d1-48d6-a960-984412c15a27');\n",
              "          const dataTable =\n",
              "            await google.colab.kernel.invokeFunction('convertToInteractive',\n",
              "                                                     [key], {});\n",
              "          if (!dataTable) return;\n",
              "\n",
              "          const docLinkHtml = 'Like what you see? Visit the ' +\n",
              "            '<a target=\"_blank\" href=https://colab.research.google.com/notebooks/data_table.ipynb>data table notebook</a>'\n",
              "            + ' to learn more about interactive tables.';\n",
              "          element.innerHTML = '';\n",
              "          dataTable['output_type'] = 'display_data';\n",
              "          await google.colab.output.renderOutput(dataTable, element);\n",
              "          const docLink = document.createElement('div');\n",
              "          docLink.innerHTML = docLinkHtml;\n",
              "          element.appendChild(docLink);\n",
              "        }\n",
              "      </script>\n",
              "    </div>\n",
              "  </div>\n",
              "  "
            ]
          },
          "metadata": {},
          "execution_count": 5
        }
      ]
    },
    {
      "cell_type": "markdown",
      "source": [
        "**#4.Do pre-processing as per requirements of ML technique II.**\n",
        "\n"
      ],
      "metadata": {
        "id": "XT8YNlxW_mrI"
      }
    },
    {
      "cell_type": "code",
      "source": [
        "import pandas as pd\n",
        "import numpy as np\n",
        "import matplotlib.pyplot as plt\n",
        "\n",
        "from sklearn.cluster import AgglomerativeClustering \n",
        "from sklearn.preprocessing import StandardScaler, normalize\n",
        "from sklearn.decomposition import PCA\n",
        "from sklearn.metrics import silhouette_score\n",
        "import scipy.cluster.hierarchy as shc"
      ],
      "metadata": {
        "id": "wSjWjdJI_5Tq"
      },
      "execution_count": 6,
      "outputs": []
    },
    {
      "cell_type": "code",
      "source": [
        "raw_df = pd.read_csv('/content/sample_data/BREASTCANCER.csv')\n",
        "raw_df = raw_df.drop('bmi', axis = 1) \n",
        "raw_df.fillna(method ='ffill', inplace = True) \n",
        "raw_df.head(2)"
      ],
      "metadata": {
        "colab": {
          "base_uri": "https://localhost:8080/",
          "height": 112
        },
        "id": "9kjM8qNvADm0",
        "outputId": "d0ba5730-5354-40db-e51a-d1c0b3184127"
      },
      "execution_count": 7,
      "outputs": [
        {
          "output_type": "execute_result",
          "data": {
            "text/plain": [
              "   age  glucose  insulin      homa  leptin  adiponectin  resistin    mcp_1  \\\n",
              "0   48       70    2.707  0.467409  8.8071     9.702400   7.99585  417.114   \n",
              "1   83       92    3.115  0.706897  8.8438     5.429285   4.06405  468.786   \n",
              "\n",
              "   classification  \n",
              "0               1  \n",
              "1               1  "
            ],
            "text/html": [
              "\n",
              "  <div id=\"df-62b482b3-b9f1-464a-982c-1678e2c2af91\">\n",
              "    <div class=\"colab-df-container\">\n",
              "      <div>\n",
              "<style scoped>\n",
              "    .dataframe tbody tr th:only-of-type {\n",
              "        vertical-align: middle;\n",
              "    }\n",
              "\n",
              "    .dataframe tbody tr th {\n",
              "        vertical-align: top;\n",
              "    }\n",
              "\n",
              "    .dataframe thead th {\n",
              "        text-align: right;\n",
              "    }\n",
              "</style>\n",
              "<table border=\"1\" class=\"dataframe\">\n",
              "  <thead>\n",
              "    <tr style=\"text-align: right;\">\n",
              "      <th></th>\n",
              "      <th>age</th>\n",
              "      <th>glucose</th>\n",
              "      <th>insulin</th>\n",
              "      <th>homa</th>\n",
              "      <th>leptin</th>\n",
              "      <th>adiponectin</th>\n",
              "      <th>resistin</th>\n",
              "      <th>mcp_1</th>\n",
              "      <th>classification</th>\n",
              "    </tr>\n",
              "  </thead>\n",
              "  <tbody>\n",
              "    <tr>\n",
              "      <th>0</th>\n",
              "      <td>48</td>\n",
              "      <td>70</td>\n",
              "      <td>2.707</td>\n",
              "      <td>0.467409</td>\n",
              "      <td>8.8071</td>\n",
              "      <td>9.702400</td>\n",
              "      <td>7.99585</td>\n",
              "      <td>417.114</td>\n",
              "      <td>1</td>\n",
              "    </tr>\n",
              "    <tr>\n",
              "      <th>1</th>\n",
              "      <td>83</td>\n",
              "      <td>92</td>\n",
              "      <td>3.115</td>\n",
              "      <td>0.706897</td>\n",
              "      <td>8.8438</td>\n",
              "      <td>5.429285</td>\n",
              "      <td>4.06405</td>\n",
              "      <td>468.786</td>\n",
              "      <td>1</td>\n",
              "    </tr>\n",
              "  </tbody>\n",
              "</table>\n",
              "</div>\n",
              "      <button class=\"colab-df-convert\" onclick=\"convertToInteractive('df-62b482b3-b9f1-464a-982c-1678e2c2af91')\"\n",
              "              title=\"Convert this dataframe to an interactive table.\"\n",
              "              style=\"display:none;\">\n",
              "        \n",
              "  <svg xmlns=\"http://www.w3.org/2000/svg\" height=\"24px\"viewBox=\"0 0 24 24\"\n",
              "       width=\"24px\">\n",
              "    <path d=\"M0 0h24v24H0V0z\" fill=\"none\"/>\n",
              "    <path d=\"M18.56 5.44l.94 2.06.94-2.06 2.06-.94-2.06-.94-.94-2.06-.94 2.06-2.06.94zm-11 1L8.5 8.5l.94-2.06 2.06-.94-2.06-.94L8.5 2.5l-.94 2.06-2.06.94zm10 10l.94 2.06.94-2.06 2.06-.94-2.06-.94-.94-2.06-.94 2.06-2.06.94z\"/><path d=\"M17.41 7.96l-1.37-1.37c-.4-.4-.92-.59-1.43-.59-.52 0-1.04.2-1.43.59L10.3 9.45l-7.72 7.72c-.78.78-.78 2.05 0 2.83L4 21.41c.39.39.9.59 1.41.59.51 0 1.02-.2 1.41-.59l7.78-7.78 2.81-2.81c.8-.78.8-2.07 0-2.86zM5.41 20L4 18.59l7.72-7.72 1.47 1.35L5.41 20z\"/>\n",
              "  </svg>\n",
              "      </button>\n",
              "      \n",
              "  <style>\n",
              "    .colab-df-container {\n",
              "      display:flex;\n",
              "      flex-wrap:wrap;\n",
              "      gap: 12px;\n",
              "    }\n",
              "\n",
              "    .colab-df-convert {\n",
              "      background-color: #E8F0FE;\n",
              "      border: none;\n",
              "      border-radius: 50%;\n",
              "      cursor: pointer;\n",
              "      display: none;\n",
              "      fill: #1967D2;\n",
              "      height: 32px;\n",
              "      padding: 0 0 0 0;\n",
              "      width: 32px;\n",
              "    }\n",
              "\n",
              "    .colab-df-convert:hover {\n",
              "      background-color: #E2EBFA;\n",
              "      box-shadow: 0px 1px 2px rgba(60, 64, 67, 0.3), 0px 1px 3px 1px rgba(60, 64, 67, 0.15);\n",
              "      fill: #174EA6;\n",
              "    }\n",
              "\n",
              "    [theme=dark] .colab-df-convert {\n",
              "      background-color: #3B4455;\n",
              "      fill: #D2E3FC;\n",
              "    }\n",
              "\n",
              "    [theme=dark] .colab-df-convert:hover {\n",
              "      background-color: #434B5C;\n",
              "      box-shadow: 0px 1px 3px 1px rgba(0, 0, 0, 0.15);\n",
              "      filter: drop-shadow(0px 1px 2px rgba(0, 0, 0, 0.3));\n",
              "      fill: #FFFFFF;\n",
              "    }\n",
              "  </style>\n",
              "\n",
              "      <script>\n",
              "        const buttonEl =\n",
              "          document.querySelector('#df-62b482b3-b9f1-464a-982c-1678e2c2af91 button.colab-df-convert');\n",
              "        buttonEl.style.display =\n",
              "          google.colab.kernel.accessAllowed ? 'block' : 'none';\n",
              "\n",
              "        async function convertToInteractive(key) {\n",
              "          const element = document.querySelector('#df-62b482b3-b9f1-464a-982c-1678e2c2af91');\n",
              "          const dataTable =\n",
              "            await google.colab.kernel.invokeFunction('convertToInteractive',\n",
              "                                                     [key], {});\n",
              "          if (!dataTable) return;\n",
              "\n",
              "          const docLinkHtml = 'Like what you see? Visit the ' +\n",
              "            '<a target=\"_blank\" href=https://colab.research.google.com/notebooks/data_table.ipynb>data table notebook</a>'\n",
              "            + ' to learn more about interactive tables.';\n",
              "          element.innerHTML = '';\n",
              "          dataTable['output_type'] = 'display_data';\n",
              "          await google.colab.output.renderOutput(dataTable, element);\n",
              "          const docLink = document.createElement('div');\n",
              "          docLink.innerHTML = docLinkHtml;\n",
              "          element.appendChild(docLink);\n",
              "        }\n",
              "      </script>\n",
              "    </div>\n",
              "  </div>\n",
              "  "
            ]
          },
          "metadata": {},
          "execution_count": 7
        }
      ]
    },
    {
      "cell_type": "code",
      "source": [
        "# Standardize data\n",
        "scaler = StandardScaler() \n",
        "scaled_df = scaler.fit_transform(raw_df) \n",
        "  \n",
        "# Normalizing the Data \n",
        "normalized_df = normalize(scaled_df) \n",
        "  \n",
        "# Converting the numpy array into a pandas DataFrame \n",
        "normalized_df = pd.DataFrame(normalized_df) \n",
        "  \n",
        "# Reducing the dimensions of the data \n",
        "pca = PCA(n_components = 2) \n",
        "X_principal = pca.fit_transform(normalized_df) \n",
        "X_principal = pd.DataFrame(X_principal) \n",
        "X_principal.columns = ['age', 'classification'] \n",
        "  \n",
        "X_principal.head(2)"
      ],
      "metadata": {
        "colab": {
          "base_uri": "https://localhost:8080/",
          "height": 112
        },
        "id": "jIRl0gq4AaMa",
        "outputId": "3e7ed2bf-8cfb-45ef-865f-6d84f5abe1aa"
      },
      "execution_count": 8,
      "outputs": [
        {
          "output_type": "execute_result",
          "data": {
            "text/plain": [
              "        age  classification\n",
              "0 -0.747875       -0.325694\n",
              "1 -0.700871        0.041741"
            ],
            "text/html": [
              "\n",
              "  <div id=\"df-44fa9698-3d63-4182-83ac-016100a26361\">\n",
              "    <div class=\"colab-df-container\">\n",
              "      <div>\n",
              "<style scoped>\n",
              "    .dataframe tbody tr th:only-of-type {\n",
              "        vertical-align: middle;\n",
              "    }\n",
              "\n",
              "    .dataframe tbody tr th {\n",
              "        vertical-align: top;\n",
              "    }\n",
              "\n",
              "    .dataframe thead th {\n",
              "        text-align: right;\n",
              "    }\n",
              "</style>\n",
              "<table border=\"1\" class=\"dataframe\">\n",
              "  <thead>\n",
              "    <tr style=\"text-align: right;\">\n",
              "      <th></th>\n",
              "      <th>age</th>\n",
              "      <th>classification</th>\n",
              "    </tr>\n",
              "  </thead>\n",
              "  <tbody>\n",
              "    <tr>\n",
              "      <th>0</th>\n",
              "      <td>-0.747875</td>\n",
              "      <td>-0.325694</td>\n",
              "    </tr>\n",
              "    <tr>\n",
              "      <th>1</th>\n",
              "      <td>-0.700871</td>\n",
              "      <td>0.041741</td>\n",
              "    </tr>\n",
              "  </tbody>\n",
              "</table>\n",
              "</div>\n",
              "      <button class=\"colab-df-convert\" onclick=\"convertToInteractive('df-44fa9698-3d63-4182-83ac-016100a26361')\"\n",
              "              title=\"Convert this dataframe to an interactive table.\"\n",
              "              style=\"display:none;\">\n",
              "        \n",
              "  <svg xmlns=\"http://www.w3.org/2000/svg\" height=\"24px\"viewBox=\"0 0 24 24\"\n",
              "       width=\"24px\">\n",
              "    <path d=\"M0 0h24v24H0V0z\" fill=\"none\"/>\n",
              "    <path d=\"M18.56 5.44l.94 2.06.94-2.06 2.06-.94-2.06-.94-.94-2.06-.94 2.06-2.06.94zm-11 1L8.5 8.5l.94-2.06 2.06-.94-2.06-.94L8.5 2.5l-.94 2.06-2.06.94zm10 10l.94 2.06.94-2.06 2.06-.94-2.06-.94-.94-2.06-.94 2.06-2.06.94z\"/><path d=\"M17.41 7.96l-1.37-1.37c-.4-.4-.92-.59-1.43-.59-.52 0-1.04.2-1.43.59L10.3 9.45l-7.72 7.72c-.78.78-.78 2.05 0 2.83L4 21.41c.39.39.9.59 1.41.59.51 0 1.02-.2 1.41-.59l7.78-7.78 2.81-2.81c.8-.78.8-2.07 0-2.86zM5.41 20L4 18.59l7.72-7.72 1.47 1.35L5.41 20z\"/>\n",
              "  </svg>\n",
              "      </button>\n",
              "      \n",
              "  <style>\n",
              "    .colab-df-container {\n",
              "      display:flex;\n",
              "      flex-wrap:wrap;\n",
              "      gap: 12px;\n",
              "    }\n",
              "\n",
              "    .colab-df-convert {\n",
              "      background-color: #E8F0FE;\n",
              "      border: none;\n",
              "      border-radius: 50%;\n",
              "      cursor: pointer;\n",
              "      display: none;\n",
              "      fill: #1967D2;\n",
              "      height: 32px;\n",
              "      padding: 0 0 0 0;\n",
              "      width: 32px;\n",
              "    }\n",
              "\n",
              "    .colab-df-convert:hover {\n",
              "      background-color: #E2EBFA;\n",
              "      box-shadow: 0px 1px 2px rgba(60, 64, 67, 0.3), 0px 1px 3px 1px rgba(60, 64, 67, 0.15);\n",
              "      fill: #174EA6;\n",
              "    }\n",
              "\n",
              "    [theme=dark] .colab-df-convert {\n",
              "      background-color: #3B4455;\n",
              "      fill: #D2E3FC;\n",
              "    }\n",
              "\n",
              "    [theme=dark] .colab-df-convert:hover {\n",
              "      background-color: #434B5C;\n",
              "      box-shadow: 0px 1px 3px 1px rgba(0, 0, 0, 0.15);\n",
              "      filter: drop-shadow(0px 1px 2px rgba(0, 0, 0, 0.3));\n",
              "      fill: #FFFFFF;\n",
              "    }\n",
              "  </style>\n",
              "\n",
              "      <script>\n",
              "        const buttonEl =\n",
              "          document.querySelector('#df-44fa9698-3d63-4182-83ac-016100a26361 button.colab-df-convert');\n",
              "        buttonEl.style.display =\n",
              "          google.colab.kernel.accessAllowed ? 'block' : 'none';\n",
              "\n",
              "        async function convertToInteractive(key) {\n",
              "          const element = document.querySelector('#df-44fa9698-3d63-4182-83ac-016100a26361');\n",
              "          const dataTable =\n",
              "            await google.colab.kernel.invokeFunction('convertToInteractive',\n",
              "                                                     [key], {});\n",
              "          if (!dataTable) return;\n",
              "\n",
              "          const docLinkHtml = 'Like what you see? Visit the ' +\n",
              "            '<a target=\"_blank\" href=https://colab.research.google.com/notebooks/data_table.ipynb>data table notebook</a>'\n",
              "            + ' to learn more about interactive tables.';\n",
              "          element.innerHTML = '';\n",
              "          dataTable['output_type'] = 'display_data';\n",
              "          await google.colab.output.renderOutput(dataTable, element);\n",
              "          const docLink = document.createElement('div');\n",
              "          docLink.innerHTML = docLinkHtml;\n",
              "          element.appendChild(docLink);\n",
              "        }\n",
              "      </script>\n",
              "    </div>\n",
              "  </div>\n",
              "  "
            ]
          },
          "metadata": {},
          "execution_count": 8
        }
      ]
    },
    {
      "cell_type": "code",
      "source": [
        "plt.figure(figsize =(6, 6)) \n",
        "plt.title('leptin') \n",
        "Dendrogram = shc.dendrogram((shc.linkage(X_principal, method ='ward')))"
      ],
      "metadata": {
        "colab": {
          "base_uri": "https://localhost:8080/",
          "height": 544
        },
        "id": "I5IpK6IFAx_s",
        "outputId": "0d6e0777-5f40-4b26-d45d-5080207f0a07"
      },
      "execution_count": 9,
      "outputs": [
        {
          "output_type": "display_data",
          "data": {
            "text/plain": [
              "<Figure size 600x600 with 1 Axes>"
            ],
            "image/png": "[encoded data removed]"
          },
          "metadata": {}
        }
      ]
    },
    {
      "cell_type": "code",
      "source": [
        "silhouette_scores = [] \n",
        "\n",
        "for n_cluster in range(2, 8):\n",
        "    silhouette_scores.append( \n",
        "        silhouette_score(X_principal, AgglomerativeClustering(n_clusters = n_cluster).fit_predict(X_principal))) \n",
        "    \n",
        "# Plotting a bar graph to compare the results \n",
        "k = [2, 3, 4, 5, 6,7] \n",
        "plt.bar(k, silhouette_scores) \n",
        "plt.xlabel('homa', fontsize = 10) \n",
        "plt.ylabel('bmi', fontsize = 10) \n",
        "plt.show() "
      ],
      "metadata": {
        "colab": {
          "base_uri": "https://localhost:8080/",
          "height": 453
        },
        "id": "zGGRYecSBDGD",
        "outputId": "fcffb781-a078-4a15-81a7-d84d59b83a3e"
      },
      "execution_count": 10,
      "outputs": [
        {
          "output_type": "display_data",
          "data": {
            "text/plain": [
              "<Figure size 640x480 with 1 Axes>"
            ],
            "image/png": "[encoded data removed]"
          },
          "metadata": {}
        }
      ]
    },
    {
      "cell_type": "code",
      "source": [
        "agg = AgglomerativeClustering(n_clusters=3)\n",
        "agg.fit(X_principal)"
      ],
      "metadata": {
        "colab": {
          "base_uri": "https://localhost:8080/",
          "height": 75
        },
        "id": "wfE5_FjdGxaI",
        "outputId": "ed6a4ead-d22f-41d9-e80d-328a8af63630"
      },
      "execution_count": 11,
      "outputs": [
        {
          "output_type": "execute_result",
          "data": {
            "text/plain": [
              "AgglomerativeClustering(n_clusters=3)"
            ],
            "text/html": [
              "<style>#sk-container-id-1 {color: black;background-color: white;}#sk-container-id-1 pre{padding: 0;}#sk-container-id-1 div.sk-toggleable {background-color: white;}#sk-container-id-1 label.sk-toggleable__label {cursor: pointer;display: block;width: 100%;margin-bottom: 0;padding: 0.3em;box-sizing: border-box;text-align: center;}#sk-container-id-1 label.sk-toggleable__label-arrow:before {content: \"▸\";float: left;margin-right: 0.25em;color: #696969;}#sk-container-id-1 label.sk-toggleable__label-arrow:hover:before {color: black;}#sk-container-id-1 div.sk-estimator:hover label.sk-toggleable__label-arrow:before {color: black;}#sk-container-id-1 div.sk-toggleable__content {max-height: 0;max-width: 0;overflow: hidden;text-align: left;background-color: #f0f8ff;}#sk-container-id-1 div.sk-toggleable__content pre {margin: 0.2em;color: black;border-radius: 0.25em;background-color: #f0f8ff;}#sk-container-id-1 input.sk-toggleable__control:checked~div.sk-toggleable__content {max-height: 200px;max-width: 100%;overflow: auto;}#sk-container-id-1 input.sk-toggleable__control:checked~label.sk-toggleable__label-arrow:before {content: \"▾\";}#sk-container-id-1 div.sk-estimator input.sk-toggleable__control:checked~label.sk-toggleable__label {background-color: #d4ebff;}#sk-container-id-1 div.sk-label input.sk-toggleable__control:checked~label.sk-toggleable__label {background-color: #d4ebff;}#sk-container-id-1 input.sk-hidden--visually {border: 0;clip: rect(1px 1px 1px 1px);clip: rect(1px, 1px, 1px, 1px);height: 1px;margin: -1px;overflow: hidden;padding: 0;position: absolute;width: 1px;}#sk-container-id-1 div.sk-estimator {font-family: monospace;background-color: #f0f8ff;border: 1px dotted black;border-radius: 0.25em;box-sizing: border-box;margin-bottom: 0.5em;}#sk-container-id-1 div.sk-estimator:hover {background-color: #d4ebff;}#sk-container-id-1 div.sk-parallel-item::after {content: \"\";width: 100%;border-bottom: 1px solid gray;flex-grow: 1;}#sk-container-id-1 div.sk-label:hover label.sk-toggleable__label {background-color: #d4ebff;}#sk-container-id-1 div.sk-serial::before {content: \"\";position: absolute;border-left: 1px solid gray;box-sizing: border-box;top: 0;bottom: 0;left: 50%;z-index: 0;}#sk-container-id-1 div.sk-serial {display: flex;flex-direction: column;align-items: center;background-color: white;padding-right: 0.2em;padding-left: 0.2em;position: relative;}#sk-container-id-1 div.sk-item {position: relative;z-index: 1;}#sk-container-id-1 div.sk-parallel {display: flex;align-items: stretch;justify-content: center;background-color: white;position: relative;}#sk-container-id-1 div.sk-item::before, #sk-container-id-1 div.sk-parallel-item::before {content: \"\";position: absolute;border-left: 1px solid gray;box-sizing: border-box;top: 0;bottom: 0;left: 50%;z-index: -1;}#sk-container-id-1 div.sk-parallel-item {display: flex;flex-direction: column;z-index: 1;position: relative;background-color: white;}#sk-container-id-1 div.sk-parallel-item:first-child::after {align-self: flex-end;width: 50%;}#sk-container-id-1 div.sk-parallel-item:last-child::after {align-self: flex-start;width: 50%;}#sk-container-id-1 div.sk-parallel-item:only-child::after {width: 0;}#sk-container-id-1 div.sk-dashed-wrapped {border: 1px dashed gray;margin: 0 0.4em 0.5em 0.4em;box-sizing: border-box;padding-bottom: 0.4em;background-color: white;}#sk-container-id-1 div.sk-label label {font-family: monospace;font-weight: bold;display: inline-block;line-height: 1.2em;}#sk-container-id-1 div.sk-label-container {text-align: center;}#sk-container-id-1 div.sk-container {/* jupyter's `normalize.less` sets `[hidden] { display: none; }` but bootstrap.min.css set `[hidden] { display: none !important; }` so we also need the `!important` here to be able to override the default hidden behavior on the sphinx rendered scikit-learn.org. See: https://github.com/scikit-learn/scikit-learn/issues/21755 */display: inline-block !important;position: relative;}#sk-container-id-1 div.sk-text-repr-fallback {display: none;}</style><div id=\"sk-container-id-1\" class=\"sk-top-container\"><div class=\"sk-text-repr-fallback\"><pre>AgglomerativeClustering(n_clusters=3)</pre><b>In a Jupyter environment, please rerun this cell to show the HTML representation or trust the notebook. <br />On GitHub, the HTML representation is unable to render, please try loading this page with nbviewer.org.</b></div><div class=\"sk-container\" hidden><div class=\"sk-item\"><div class=\"sk-estimator sk-toggleable\"><input class=\"sk-toggleable__control sk-hidden--visually\" id=\"sk-estimator-id-1\" type=\"checkbox\" checked><label for=\"sk-estimator-id-1\" class=\"sk-toggleable__label sk-toggleable__label-arrow\">AgglomerativeClustering</label><div class=\"sk-toggleable__content\"><pre>AgglomerativeClustering(n_clusters=3)</pre></div></div></div></div></div>"
            ]
          },
          "metadata": {},
          "execution_count": 11
        }
      ]
    },
    {
      "cell_type": "code",
      "source": [
        "# Visualizing the clustering \n",
        "plt.scatter(X_principal['age'], X_principal['classification'],  \n",
        "           c = AgglomerativeClustering(n_clusters = 3).fit_predict(X_principal), cmap =plt.cm.winter) \n",
        "plt.show() \n"
      ],
      "metadata": {
        "colab": {
          "base_uri": "https://localhost:8080/",
          "height": 430
        },
        "id": "3dntTtkKG-OR",
        "outputId": "08986855-b86f-4de9-d041-2ab04dc68f35"
      },
      "execution_count": 14,
      "outputs": [
        {
          "output_type": "display_data",
          "data": {
            "text/plain": [
              "<Figure size 640x480 with 1 Axes>"
            ],
            "image/png": "[encoded data removed]"
          },
          "metadata": {}
        }
      ]
    },
    {
      "cell_type": "markdown",
      "source": [
        "**#5. Divide Data set in to training and validation sets.**\n"
      ],
      "metadata": {
        "id": "iUyKkH0pKV5J"
      }
    },
    {
      "cell_type": "code",
      "source": [
        "# import modules\n",
        "import pandas as pd\n",
        "from sklearn.linear_model import LinearRegression\n",
        "from sklearn.model_selection import train_test_split\n",
        "\n",
        "# read the dataset\n",
        "df = pd.read_csv('/content/sample_data/BREASTCANCER.csv')\n",
        "\n",
        "# get the locations\n",
        "X = df.iloc[:, :-1]\n",
        "y = df.iloc[:, -1]\n",
        "\n",
        "# split the dataset\n",
        "X_train, X_test, y_train, y_test = train_test_split(\n",
        "\tX, y, test_size=0.05, random_state=0)"
      ],
      "metadata": {
        "id": "gQjML-cdKYhw"
      },
      "execution_count": 15,
      "outputs": []
    },
    {
      "cell_type": "code",
      "source": [
        "X_test"
      ],
      "metadata": {
        "colab": {
          "base_uri": "https://localhost:8080/",
          "height": 238
        },
        "id": "yZovriQwK9XZ",
        "outputId": "5cf63caf-6f56-4601-d869-a7433e077ef8"
      },
      "execution_count": 16,
      "outputs": [
        {
          "output_type": "execute_result",
          "data": {
            "text/plain": [
              "    age        bmi  glucose  insulin       homa   leptin  adiponectin  \\\n",
              "10   34  21.470000       78    3.469   0.667436  14.5700    13.110000   \n",
              "74   46  22.210000       86   36.940   7.836205  10.1600     9.760000   \n",
              "66   54  24.218750       86    3.730   0.791257   8.6874     3.705230   \n",
              "51   77  25.900000       85    4.580   0.960273  13.7400     9.753260   \n",
              "7    76  23.800000      118    6.470   1.883201   4.3110    13.251320   \n",
              "78   86  26.666667      201   41.611  20.630734  47.6470     5.357135   \n",
              "\n",
              "    resistin     mcp_1  \n",
              "10   6.92000   354.600  \n",
              "74   5.68000   312.000  \n",
              "66  10.34455   635.049  \n",
              "51  11.77400   488.829  \n",
              "7    5.10420   280.694  \n",
              "78  24.37010  1698.440  "
            ],
            "text/html": [
              "\n",
              "  <div id=\"df-2144ae29-0f8a-4369-b172-1f98f650b616\">\n",
              "    <div class=\"colab-df-container\">\n",
              "      <div>\n",
              "<style scoped>\n",
              "    .dataframe tbody tr th:only-of-type {\n",
              "        vertical-align: middle;\n",
              "    }\n",
              "\n",
              "    .dataframe tbody tr th {\n",
              "        vertical-align: top;\n",
              "    }\n",
              "\n",
              "    .dataframe thead th {\n",
              "        text-align: right;\n",
              "    }\n",
              "</style>\n",
              "<table border=\"1\" class=\"dataframe\">\n",
              "  <thead>\n",
              "    <tr style=\"text-align: right;\">\n",
              "      <th></th>\n",
              "      <th>age</th>\n",
              "      <th>bmi</th>\n",
              "      <th>glucose</th>\n",
              "      <th>insulin</th>\n",
              "      <th>homa</th>\n",
              "      <th>leptin</th>\n",
              "      <th>adiponectin</th>\n",
              "      <th>resistin</th>\n",
              "      <th>mcp_1</th>\n",
              "    </tr>\n",
              "  </thead>\n",
              "  <tbody>\n",
              "    <tr>\n",
              "      <th>10</th>\n",
              "      <td>34</td>\n",
              "      <td>21.470000</td>\n",
              "      <td>78</td>\n",
              "      <td>3.469</td>\n",
              "      <td>0.667436</td>\n",
              "      <td>14.5700</td>\n",
              "      <td>13.110000</td>\n",
              "      <td>6.92000</td>\n",
              "      <td>354.600</td>\n",
              "    </tr>\n",
              "    <tr>\n",
              "      <th>74</th>\n",
              "      <td>46</td>\n",
              "      <td>22.210000</td>\n",
              "      <td>86</td>\n",
              "      <td>36.940</td>\n",
              "      <td>7.836205</td>\n",
              "      <td>10.1600</td>\n",
              "      <td>9.760000</td>\n",
              "      <td>5.68000</td>\n",
              "      <td>312.000</td>\n",
              "    </tr>\n",
              "    <tr>\n",
              "      <th>66</th>\n",
              "      <td>54</td>\n",
              "      <td>24.218750</td>\n",
              "      <td>86</td>\n",
              "      <td>3.730</td>\n",
              "      <td>0.791257</td>\n",
              "      <td>8.6874</td>\n",
              "      <td>3.705230</td>\n",
              "      <td>10.34455</td>\n",
              "      <td>635.049</td>\n",
              "    </tr>\n",
              "    <tr>\n",
              "      <th>51</th>\n",
              "      <td>77</td>\n",
              "      <td>25.900000</td>\n",
              "      <td>85</td>\n",
              "      <td>4.580</td>\n",
              "      <td>0.960273</td>\n",
              "      <td>13.7400</td>\n",
              "      <td>9.753260</td>\n",
              "      <td>11.77400</td>\n",
              "      <td>488.829</td>\n",
              "    </tr>\n",
              "    <tr>\n",
              "      <th>7</th>\n",
              "      <td>76</td>\n",
              "      <td>23.800000</td>\n",
              "      <td>118</td>\n",
              "      <td>6.470</td>\n",
              "      <td>1.883201</td>\n",
              "      <td>4.3110</td>\n",
              "      <td>13.251320</td>\n",
              "      <td>5.10420</td>\n",
              "      <td>280.694</td>\n",
              "    </tr>\n",
              "    <tr>\n",
              "      <th>78</th>\n",
              "      <td>86</td>\n",
              "      <td>26.666667</td>\n",
              "      <td>201</td>\n",
              "      <td>41.611</td>\n",
              "      <td>20.630734</td>\n",
              "      <td>47.6470</td>\n",
              "      <td>5.357135</td>\n",
              "      <td>24.37010</td>\n",
              "      <td>1698.440</td>\n",
              "    </tr>\n",
              "  </tbody>\n",
              "</table>\n",
              "</div>\n",
              "      <button class=\"colab-df-convert\" onclick=\"convertToInteractive('df-2144ae29-0f8a-4369-b172-1f98f650b616')\"\n",
              "              title=\"Convert this dataframe to an interactive table.\"\n",
              "              style=\"display:none;\">\n",
              "        \n",
              "  <svg xmlns=\"http://www.w3.org/2000/svg\" height=\"24px\"viewBox=\"0 0 24 24\"\n",
              "       width=\"24px\">\n",
              "    <path d=\"M0 0h24v24H0V0z\" fill=\"none\"/>\n",
              "    <path d=\"M18.56 5.44l.94 2.06.94-2.06 2.06-.94-2.06-.94-.94-2.06-.94 2.06-2.06.94zm-11 1L8.5 8.5l.94-2.06 2.06-.94-2.06-.94L8.5 2.5l-.94 2.06-2.06.94zm10 10l.94 2.06.94-2.06 2.06-.94-2.06-.94-.94-2.06-.94 2.06-2.06.94z\"/><path d=\"M17.41 7.96l-1.37-1.37c-.4-.4-.92-.59-1.43-.59-.52 0-1.04.2-1.43.59L10.3 9.45l-7.72 7.72c-.78.78-.78 2.05 0 2.83L4 21.41c.39.39.9.59 1.41.59.51 0 1.02-.2 1.41-.59l7.78-7.78 2.81-2.81c.8-.78.8-2.07 0-2.86zM5.41 20L4 18.59l7.72-7.72 1.47 1.35L5.41 20z\"/>\n",
              "  </svg>\n",
              "      </button>\n",
              "      \n",
              "  <style>\n",
              "    .colab-df-container {\n",
              "      display:flex;\n",
              "      flex-wrap:wrap;\n",
              "      gap: 12px;\n",
              "    }\n",
              "\n",
              "    .colab-df-convert {\n",
              "      background-color: #E8F0FE;\n",
              "      border: none;\n",
              "      border-radius: 50%;\n",
              "      cursor: pointer;\n",
              "      display: none;\n",
              "      fill: #1967D2;\n",
              "      height: 32px;\n",
              "      padding: 0 0 0 0;\n",
              "      width: 32px;\n",
              "    }\n",
              "\n",
              "    .colab-df-convert:hover {\n",
              "      background-color: #E2EBFA;\n",
              "      box-shadow: 0px 1px 2px rgba(60, 64, 67, 0.3), 0px 1px 3px 1px rgba(60, 64, 67, 0.15);\n",
              "      fill: #174EA6;\n",
              "    }\n",
              "\n",
              "    [theme=dark] .colab-df-convert {\n",
              "      background-color: #3B4455;\n",
              "      fill: #D2E3FC;\n",
              "    }\n",
              "\n",
              "    [theme=dark] .colab-df-convert:hover {\n",
              "      background-color: #434B5C;\n",
              "      box-shadow: 0px 1px 3px 1px rgba(0, 0, 0, 0.15);\n",
              "      filter: drop-shadow(0px 1px 2px rgba(0, 0, 0, 0.3));\n",
              "      fill: #FFFFFF;\n",
              "    }\n",
              "  </style>\n",
              "\n",
              "      <script>\n",
              "        const buttonEl =\n",
              "          document.querySelector('#df-2144ae29-0f8a-4369-b172-1f98f650b616 button.colab-df-convert');\n",
              "        buttonEl.style.display =\n",
              "          google.colab.kernel.accessAllowed ? 'block' : 'none';\n",
              "\n",
              "        async function convertToInteractive(key) {\n",
              "          const element = document.querySelector('#df-2144ae29-0f8a-4369-b172-1f98f650b616');\n",
              "          const dataTable =\n",
              "            await google.colab.kernel.invokeFunction('convertToInteractive',\n",
              "                                                     [key], {});\n",
              "          if (!dataTable) return;\n",
              "\n",
              "          const docLinkHtml = 'Like what you see? Visit the ' +\n",
              "            '<a target=\"_blank\" href=https://colab.research.google.com/notebooks/data_table.ipynb>data table notebook</a>'\n",
              "            + ' to learn more about interactive tables.';\n",
              "          element.innerHTML = '';\n",
              "          dataTable['output_type'] = 'display_data';\n",
              "          await google.colab.output.renderOutput(dataTable, element);\n",
              "          const docLink = document.createElement('div');\n",
              "          docLink.innerHTML = docLinkHtml;\n",
              "          element.appendChild(docLink);\n",
              "        }\n",
              "      </script>\n",
              "    </div>\n",
              "  </div>\n",
              "  "
            ]
          },
          "metadata": {},
          "execution_count": 16
        }
      ]
    },
    {
      "cell_type": "code",
      "source": [
        "y_test"
      ],
      "metadata": {
        "colab": {
          "base_uri": "https://localhost:8080/"
        },
        "id": "5xogEReIK9KD",
        "outputId": "62b4f7b7-a8d4-4882-8a16-ed605f9f9f51"
      },
      "execution_count": 17,
      "outputs": [
        {
          "output_type": "execute_result",
          "data": {
            "text/plain": [
              "10    1\n",
              "74    2\n",
              "66    2\n",
              "51    1\n",
              "7     1\n",
              "78    2\n",
              "Name: classification, dtype: int64"
            ]
          },
          "metadata": {},
          "execution_count": 17
        }
      ]
    },
    {
      "cell_type": "markdown",
      "source": [
        "**#6. Perform training**"
      ],
      "metadata": {
        "id": "5hd_50P6O4i-"
      }
    },
    {
      "cell_type": "code",
      "source": [
        "X_train"
      ],
      "metadata": {
        "colab": {
          "base_uri": "https://localhost:8080/",
          "height": 424
        },
        "id": "ioNfBZbJO7LD",
        "outputId": "0b9ae3bb-4a76-4831-e63f-f7e330b7edd1"
      },
      "execution_count": 18,
      "outputs": [
        {
          "output_type": "execute_result",
          "data": {
            "text/plain": [
              "     age        bmi  glucose  insulin       homa   leptin  adiponectin  \\\n",
              "92    52  30.801249       87   30.212   6.483495  29.2739     6.268540   \n",
              "90    40  30.836531      128   41.894  13.227332  31.0385     6.160995   \n",
              "107   46  33.180000       92    5.750   1.304867  18.6900     9.160000   \n",
              "62    49  21.367521       78    2.640   0.507936   6.3339     3.886145   \n",
              "30    66  36.212279      101   15.533   3.869788  74.7069     7.539550   \n",
              "..   ...        ...      ...      ...        ...      ...          ...   \n",
              "112   62  26.840000      100    4.530   1.117400  12.4500    21.420000   \n",
              "67    64  22.222222       98    5.700   1.377880  12.1905     4.783985   \n",
              "64    59  22.832879       98    6.862   1.658774  14.9037     4.230105   \n",
              "47    78  25.300000       60    3.508   0.519184   6.6330    10.567295   \n",
              "44    71  30.300000      102    8.340   2.098344  56.5020     8.130000   \n",
              "\n",
              "     resistin    mcp_1  \n",
              "92   24.24591  764.667  \n",
              "90   17.55503  638.261  \n",
              "107   8.89000  209.190  \n",
              "62   22.94254  737.672  \n",
              "30   22.32024  864.968  \n",
              "..        ...      ...  \n",
              "112   7.32000  330.160  \n",
              "67   13.91245  395.976  \n",
              "64    8.20490  355.310  \n",
              "47    4.66380  209.749  \n",
              "44    4.29890  200.976  \n",
              "\n",
              "[110 rows x 9 columns]"
            ],
            "text/html": [
              "\n",
              "  <div id=\"df-87684b8c-4a37-427e-a009-ba51499fa06b\">\n",
              "    <div class=\"colab-df-container\">\n",
              "      <div>\n",
              "<style scoped>\n",
              "    .dataframe tbody tr th:only-of-type {\n",
              "        vertical-align: middle;\n",
              "    }\n",
              "\n",
              "    .dataframe tbody tr th {\n",
              "        vertical-align: top;\n",
              "    }\n",
              "\n",
              "    .dataframe thead th {\n",
              "        text-align: right;\n",
              "    }\n",
              "</style>\n",
              "<table border=\"1\" class=\"dataframe\">\n",
              "  <thead>\n",
              "    <tr style=\"text-align: right;\">\n",
              "      <th></th>\n",
              "      <th>age</th>\n",
              "      <th>bmi</th>\n",
              "      <th>glucose</th>\n",
              "      <th>insulin</th>\n",
              "      <th>homa</th>\n",
              "      <th>leptin</th>\n",
              "      <th>adiponectin</th>\n",
              "      <th>resistin</th>\n",
              "      <th>mcp_1</th>\n",
              "    </tr>\n",
              "  </thead>\n",
              "  <tbody>\n",
              "    <tr>\n",
              "      <th>92</th>\n",
              "      <td>52</td>\n",
              "      <td>30.801249</td>\n",
              "      <td>87</td>\n",
              "      <td>30.212</td>\n",
              "      <td>6.483495</td>\n",
              "      <td>29.2739</td>\n",
              "      <td>6.268540</td>\n",
              "      <td>24.24591</td>\n",
              "      <td>764.667</td>\n",
              "    </tr>\n",
              "    <tr>\n",
              "      <th>90</th>\n",
              "      <td>40</td>\n",
              "      <td>30.836531</td>\n",
              "      <td>128</td>\n",
              "      <td>41.894</td>\n",
              "      <td>13.227332</td>\n",
              "      <td>31.0385</td>\n",
              "      <td>6.160995</td>\n",
              "      <td>17.55503</td>\n",
              "      <td>638.261</td>\n",
              "    </tr>\n",
              "    <tr>\n",
              "      <th>107</th>\n",
              "      <td>46</td>\n",
              "      <td>33.180000</td>\n",
              "      <td>92</td>\n",
              "      <td>5.750</td>\n",
              "      <td>1.304867</td>\n",
              "      <td>18.6900</td>\n",
              "      <td>9.160000</td>\n",
              "      <td>8.89000</td>\n",
              "      <td>209.190</td>\n",
              "    </tr>\n",
              "    <tr>\n",
              "      <th>62</th>\n",
              "      <td>49</td>\n",
              "      <td>21.367521</td>\n",
              "      <td>78</td>\n",
              "      <td>2.640</td>\n",
              "      <td>0.507936</td>\n",
              "      <td>6.3339</td>\n",
              "      <td>3.886145</td>\n",
              "      <td>22.94254</td>\n",
              "      <td>737.672</td>\n",
              "    </tr>\n",
              "    <tr>\n",
              "      <th>30</th>\n",
              "      <td>66</td>\n",
              "      <td>36.212279</td>\n",
              "      <td>101</td>\n",
              "      <td>15.533</td>\n",
              "      <td>3.869788</td>\n",
              "      <td>74.7069</td>\n",
              "      <td>7.539550</td>\n",
              "      <td>22.32024</td>\n",
              "      <td>864.968</td>\n",
              "    </tr>\n",
              "    <tr>\n",
              "      <th>...</th>\n",
              "      <td>...</td>\n",
              "      <td>...</td>\n",
              "      <td>...</td>\n",
              "      <td>...</td>\n",
              "      <td>...</td>\n",
              "      <td>...</td>\n",
              "      <td>...</td>\n",
              "      <td>...</td>\n",
              "      <td>...</td>\n",
              "    </tr>\n",
              "    <tr>\n",
              "      <th>112</th>\n",
              "      <td>62</td>\n",
              "      <td>26.840000</td>\n",
              "      <td>100</td>\n",
              "      <td>4.530</td>\n",
              "      <td>1.117400</td>\n",
              "      <td>12.4500</td>\n",
              "      <td>21.420000</td>\n",
              "      <td>7.32000</td>\n",
              "      <td>330.160</td>\n",
              "    </tr>\n",
              "    <tr>\n",
              "      <th>67</th>\n",
              "      <td>64</td>\n",
              "      <td>22.222222</td>\n",
              "      <td>98</td>\n",
              "      <td>5.700</td>\n",
              "      <td>1.377880</td>\n",
              "      <td>12.1905</td>\n",
              "      <td>4.783985</td>\n",
              "      <td>13.91245</td>\n",
              "      <td>395.976</td>\n",
              "    </tr>\n",
              "    <tr>\n",
              "      <th>64</th>\n",
              "      <td>59</td>\n",
              "      <td>22.832879</td>\n",
              "      <td>98</td>\n",
              "      <td>6.862</td>\n",
              "      <td>1.658774</td>\n",
              "      <td>14.9037</td>\n",
              "      <td>4.230105</td>\n",
              "      <td>8.20490</td>\n",
              "      <td>355.310</td>\n",
              "    </tr>\n",
              "    <tr>\n",
              "      <th>47</th>\n",
              "      <td>78</td>\n",
              "      <td>25.300000</td>\n",
              "      <td>60</td>\n",
              "      <td>3.508</td>\n",
              "      <td>0.519184</td>\n",
              "      <td>6.6330</td>\n",
              "      <td>10.567295</td>\n",
              "      <td>4.66380</td>\n",
              "      <td>209.749</td>\n",
              "    </tr>\n",
              "    <tr>\n",
              "      <th>44</th>\n",
              "      <td>71</td>\n",
              "      <td>30.300000</td>\n",
              "      <td>102</td>\n",
              "      <td>8.340</td>\n",
              "      <td>2.098344</td>\n",
              "      <td>56.5020</td>\n",
              "      <td>8.130000</td>\n",
              "      <td>4.29890</td>\n",
              "      <td>200.976</td>\n",
              "    </tr>\n",
              "  </tbody>\n",
              "</table>\n",
              "<p>110 rows × 9 columns</p>\n",
              "</div>\n",
              "      <button class=\"colab-df-convert\" onclick=\"convertToInteractive('df-87684b8c-4a37-427e-a009-ba51499fa06b')\"\n",
              "              title=\"Convert this dataframe to an interactive table.\"\n",
              "              style=\"display:none;\">\n",
              "        \n",
              "  <svg xmlns=\"http://www.w3.org/2000/svg\" height=\"24px\"viewBox=\"0 0 24 24\"\n",
              "       width=\"24px\">\n",
              "    <path d=\"M0 0h24v24H0V0z\" fill=\"none\"/>\n",
              "    <path d=\"M18.56 5.44l.94 2.06.94-2.06 2.06-.94-2.06-.94-.94-2.06-.94 2.06-2.06.94zm-11 1L8.5 8.5l.94-2.06 2.06-.94-2.06-.94L8.5 2.5l-.94 2.06-2.06.94zm10 10l.94 2.06.94-2.06 2.06-.94-2.06-.94-.94-2.06-.94 2.06-2.06.94z\"/><path d=\"M17.41 7.96l-1.37-1.37c-.4-.4-.92-.59-1.43-.59-.52 0-1.04.2-1.43.59L10.3 9.45l-7.72 7.72c-.78.78-.78 2.05 0 2.83L4 21.41c.39.39.9.59 1.41.59.51 0 1.02-.2 1.41-.59l7.78-7.78 2.81-2.81c.8-.78.8-2.07 0-2.86zM5.41 20L4 18.59l7.72-7.72 1.47 1.35L5.41 20z\"/>\n",
              "  </svg>\n",
              "      </button>\n",
              "      \n",
              "  <style>\n",
              "    .colab-df-container {\n",
              "      display:flex;\n",
              "      flex-wrap:wrap;\n",
              "      gap: 12px;\n",
              "    }\n",
              "\n",
              "    .colab-df-convert {\n",
              "      background-color: #E8F0FE;\n",
              "      border: none;\n",
              "      border-radius: 50%;\n",
              "      cursor: pointer;\n",
              "      display: none;\n",
              "      fill: #1967D2;\n",
              "      height: 32px;\n",
              "      padding: 0 0 0 0;\n",
              "      width: 32px;\n",
              "    }\n",
              "\n",
              "    .colab-df-convert:hover {\n",
              "      background-color: #E2EBFA;\n",
              "      box-shadow: 0px 1px 2px rgba(60, 64, 67, 0.3), 0px 1px 3px 1px rgba(60, 64, 67, 0.15);\n",
              "      fill: #174EA6;\n",
              "    }\n",
              "\n",
              "    [theme=dark] .colab-df-convert {\n",
              "      background-color: #3B4455;\n",
              "      fill: #D2E3FC;\n",
              "    }\n",
              "\n",
              "    [theme=dark] .colab-df-convert:hover {\n",
              "      background-color: #434B5C;\n",
              "      box-shadow: 0px 1px 3px 1px rgba(0, 0, 0, 0.15);\n",
              "      filter: drop-shadow(0px 1px 2px rgba(0, 0, 0, 0.3));\n",
              "      fill: #FFFFFF;\n",
              "    }\n",
              "  </style>\n",
              "\n",
              "      <script>\n",
              "        const buttonEl =\n",
              "          document.querySelector('#df-87684b8c-4a37-427e-a009-ba51499fa06b button.colab-df-convert');\n",
              "        buttonEl.style.display =\n",
              "          google.colab.kernel.accessAllowed ? 'block' : 'none';\n",
              "\n",
              "        async function convertToInteractive(key) {\n",
              "          const element = document.querySelector('#df-87684b8c-4a37-427e-a009-ba51499fa06b');\n",
              "          const dataTable =\n",
              "            await google.colab.kernel.invokeFunction('convertToInteractive',\n",
              "                                                     [key], {});\n",
              "          if (!dataTable) return;\n",
              "\n",
              "          const docLinkHtml = 'Like what you see? Visit the ' +\n",
              "            '<a target=\"_blank\" href=https://colab.research.google.com/notebooks/data_table.ipynb>data table notebook</a>'\n",
              "            + ' to learn more about interactive tables.';\n",
              "          element.innerHTML = '';\n",
              "          dataTable['output_type'] = 'display_data';\n",
              "          await google.colab.output.renderOutput(dataTable, element);\n",
              "          const docLink = document.createElement('div');\n",
              "          docLink.innerHTML = docLinkHtml;\n",
              "          element.appendChild(docLink);\n",
              "        }\n",
              "      </script>\n",
              "    </div>\n",
              "  </div>\n",
              "  "
            ]
          },
          "metadata": {},
          "execution_count": 18
        }
      ]
    },
    {
      "cell_type": "code",
      "source": [
        "y_train"
      ],
      "metadata": {
        "colab": {
          "base_uri": "https://localhost:8080/"
        },
        "id": "3JSMSoWZO7IT",
        "outputId": "3aa93e7e-bb70-40f2-9be0-7c14e3f234a4"
      },
      "execution_count": 20,
      "outputs": [
        {
          "output_type": "execute_result",
          "data": {
            "text/plain": [
              "92     2\n",
              "90     2\n",
              "107    2\n",
              "62     2\n",
              "30     1\n",
              "      ..\n",
              "112    2\n",
              "67     2\n",
              "64     2\n",
              "47     1\n",
              "44     1\n",
              "Name: classification, Length: 110, dtype: int64"
            ]
          },
          "metadata": {},
          "execution_count": 20
        }
      ]
    },
    {
      "cell_type": "markdown",
      "source": [
        "**#6. Perform validation**\n"
      ],
      "metadata": {
        "id": "JWC1eZFnPYAQ"
      }
    },
    {
      "cell_type": "code",
      "source": [
        "def read_file():\n",
        "    df = pd.read_csv('/content/sample_data/BREASTCANCER.csv')\n",
        "    if(df.empty):\n",
        "        print ('CSV file is empty')\n",
        "    else:\n",
        "        print ('CSV file is not empty')\n",
        "        return df"
      ],
      "metadata": {
        "id": "mThohZklPaRF"
      },
      "execution_count": 21,
      "outputs": []
    },
    {
      "cell_type": "code",
      "source": [
        "df = read_file()"
      ],
      "metadata": {
        "colab": {
          "base_uri": "https://localhost:8080/"
        },
        "id": "3fcBhoh_PaI9",
        "outputId": "cf15769b-7b5a-421a-e3db-e45c83f52d8d"
      },
      "execution_count": 22,
      "outputs": [
        {
          "output_type": "stream",
          "name": "stdout",
          "text": [
            "CSV file is not empty\n"
          ]
        }
      ]
    },
    {
      "cell_type": "code",
      "source": [
        "import pandas as pd\n",
        "df = pd.read_csv('/content/sample_data/BREASTCANCER.csv', nrows=2)\n",
        "for dtype in df.dtypes.iteritems():\n",
        "    print(dtype)"
      ],
      "metadata": {
        "colab": {
          "base_uri": "https://localhost:8080/"
        },
        "id": "BPcfDTMQPaG3",
        "outputId": "fefa87f2-c973-45a7-f4eb-5a9b4ef0aa8f"
      },
      "execution_count": 23,
      "outputs": [
        {
          "output_type": "stream",
          "name": "stdout",
          "text": [
            "('age', dtype('int64'))\n",
            "('bmi', dtype('float64'))\n",
            "('glucose', dtype('int64'))\n",
            "('insulin', dtype('float64'))\n",
            "('homa', dtype('float64'))\n",
            "('leptin', dtype('float64'))\n",
            "('adiponectin', dtype('float64'))\n",
            "('resistin', dtype('float64'))\n",
            "('mcp_1', dtype('float64'))\n",
            "('classification', dtype('int64'))\n"
          ]
        },
        {
          "output_type": "stream",
          "name": "stderr",
          "text": [
            "<ipython-input-23-82e3a9a881b0>:3: FutureWarning: iteritems is deprecated and will be removed in a future version. Use .items instead.\n",
            "  for dtype in df.dtypes.iteritems():\n"
          ]
        }
      ]
    },
    {
      "cell_type": "code",
      "source": [
        "import pandas as pd\n",
        "data = pd.read_csv('/content/sample_data/BREASTCANCER.csv')\n",
        "df = df[sorted(data)]\n",
        "validation = df\n",
        "validation['age'] = validation['leptin'].apply(lambda x: True if x in df else False)\n",
        "validation = validation[validation['age'] == True].reset_index()\n",
        "df"
      ],
      "metadata": {
        "colab": {
          "base_uri": "https://localhost:8080/",
          "height": 112
        },
        "id": "ixRd6A5aPzeE",
        "outputId": "f0c00e8f-0062-4611-f873-a8aed75b2fb0"
      },
      "execution_count": 24,
      "outputs": [
        {
          "output_type": "execute_result",
          "data": {
            "text/plain": [
              "   adiponectin    age        bmi  classification  glucose      homa  insulin  \\\n",
              "0     9.702400  False  23.500000               1       70  0.467409    2.707   \n",
              "1     5.429285  False  20.690495               1       92  0.706897    3.115   \n",
              "\n",
              "   leptin    mcp_1  resistin  \n",
              "0  8.8071  417.114   7.99585  \n",
              "1  8.8438  468.786   4.06405  "
            ],
            "text/html": [
              "\n",
              "  <div id=\"df-1741c1b1-930f-4b0a-8be8-cecfe8d20fcd\">\n",
              "    <div class=\"colab-df-container\">\n",
              "      <div>\n",
              "<style scoped>\n",
              "    .dataframe tbody tr th:only-of-type {\n",
              "        vertical-align: middle;\n",
              "    }\n",
              "\n",
              "    .dataframe tbody tr th {\n",
              "        vertical-align: top;\n",
              "    }\n",
              "\n",
              "    .dataframe thead th {\n",
              "        text-align: right;\n",
              "    }\n",
              "</style>\n",
              "<table border=\"1\" class=\"dataframe\">\n",
              "  <thead>\n",
              "    <tr style=\"text-align: right;\">\n",
              "      <th></th>\n",
              "      <th>adiponectin</th>\n",
              "      <th>age</th>\n",
              "      <th>bmi</th>\n",
              "      <th>classification</th>\n",
              "      <th>glucose</th>\n",
              "      <th>homa</th>\n",
              "      <th>insulin</th>\n",
              "      <th>leptin</th>\n",
              "      <th>mcp_1</th>\n",
              "      <th>resistin</th>\n",
              "    </tr>\n",
              "  </thead>\n",
              "  <tbody>\n",
              "    <tr>\n",
              "      <th>0</th>\n",
              "      <td>9.702400</td>\n",
              "      <td>False</td>\n",
              "      <td>23.500000</td>\n",
              "      <td>1</td>\n",
              "      <td>70</td>\n",
              "      <td>0.467409</td>\n",
              "      <td>2.707</td>\n",
              "      <td>8.8071</td>\n",
              "      <td>417.114</td>\n",
              "      <td>7.99585</td>\n",
              "    </tr>\n",
              "    <tr>\n",
              "      <th>1</th>\n",
              "      <td>5.429285</td>\n",
              "      <td>False</td>\n",
              "      <td>20.690495</td>\n",
              "      <td>1</td>\n",
              "      <td>92</td>\n",
              "      <td>0.706897</td>\n",
              "      <td>3.115</td>\n",
              "      <td>8.8438</td>\n",
              "      <td>468.786</td>\n",
              "      <td>4.06405</td>\n",
              "    </tr>\n",
              "  </tbody>\n",
              "</table>\n",
              "</div>\n",
              "      <button class=\"colab-df-convert\" onclick=\"convertToInteractive('df-1741c1b1-930f-4b0a-8be8-cecfe8d20fcd')\"\n",
              "              title=\"Convert this dataframe to an interactive table.\"\n",
              "              style=\"display:none;\">\n",
              "        \n",
              "  <svg xmlns=\"http://www.w3.org/2000/svg\" height=\"24px\"viewBox=\"0 0 24 24\"\n",
              "       width=\"24px\">\n",
              "    <path d=\"M0 0h24v24H0V0z\" fill=\"none\"/>\n",
              "    <path d=\"M18.56 5.44l.94 2.06.94-2.06 2.06-.94-2.06-.94-.94-2.06-.94 2.06-2.06.94zm-11 1L8.5 8.5l.94-2.06 2.06-.94-2.06-.94L8.5 2.5l-.94 2.06-2.06.94zm10 10l.94 2.06.94-2.06 2.06-.94-2.06-.94-.94-2.06-.94 2.06-2.06.94z\"/><path d=\"M17.41 7.96l-1.37-1.37c-.4-.4-.92-.59-1.43-.59-.52 0-1.04.2-1.43.59L10.3 9.45l-7.72 7.72c-.78.78-.78 2.05 0 2.83L4 21.41c.39.39.9.59 1.41.59.51 0 1.02-.2 1.41-.59l7.78-7.78 2.81-2.81c.8-.78.8-2.07 0-2.86zM5.41 20L4 18.59l7.72-7.72 1.47 1.35L5.41 20z\"/>\n",
              "  </svg>\n",
              "      </button>\n",
              "      \n",
              "  <style>\n",
              "    .colab-df-container {\n",
              "      display:flex;\n",
              "      flex-wrap:wrap;\n",
              "      gap: 12px;\n",
              "    }\n",
              "\n",
              "    .colab-df-convert {\n",
              "      background-color: #E8F0FE;\n",
              "      border: none;\n",
              "      border-radius: 50%;\n",
              "      cursor: pointer;\n",
              "      display: none;\n",
              "      fill: #1967D2;\n",
              "      height: 32px;\n",
              "      padding: 0 0 0 0;\n",
              "      width: 32px;\n",
              "    }\n",
              "\n",
              "    .colab-df-convert:hover {\n",
              "      background-color: #E2EBFA;\n",
              "      box-shadow: 0px 1px 2px rgba(60, 64, 67, 0.3), 0px 1px 3px 1px rgba(60, 64, 67, 0.15);\n",
              "      fill: #174EA6;\n",
              "    }\n",
              "\n",
              "    [theme=dark] .colab-df-convert {\n",
              "      background-color: #3B4455;\n",
              "      fill: #D2E3FC;\n",
              "    }\n",
              "\n",
              "    [theme=dark] .colab-df-convert:hover {\n",
              "      background-color: #434B5C;\n",
              "      box-shadow: 0px 1px 3px 1px rgba(0, 0, 0, 0.15);\n",
              "      filter: drop-shadow(0px 1px 2px rgba(0, 0, 0, 0.3));\n",
              "      fill: #FFFFFF;\n",
              "    }\n",
              "  </style>\n",
              "\n",
              "      <script>\n",
              "        const buttonEl =\n",
              "          document.querySelector('#df-1741c1b1-930f-4b0a-8be8-cecfe8d20fcd button.colab-df-convert');\n",
              "        buttonEl.style.display =\n",
              "          google.colab.kernel.accessAllowed ? 'block' : 'none';\n",
              "\n",
              "        async function convertToInteractive(key) {\n",
              "          const element = document.querySelector('#df-1741c1b1-930f-4b0a-8be8-cecfe8d20fcd');\n",
              "          const dataTable =\n",
              "            await google.colab.kernel.invokeFunction('convertToInteractive',\n",
              "                                                     [key], {});\n",
              "          if (!dataTable) return;\n",
              "\n",
              "          const docLinkHtml = 'Like what you see? Visit the ' +\n",
              "            '<a target=\"_blank\" href=https://colab.research.google.com/notebooks/data_table.ipynb>data table notebook</a>'\n",
              "            + ' to learn more about interactive tables.';\n",
              "          element.innerHTML = '';\n",
              "          dataTable['output_type'] = 'display_data';\n",
              "          await google.colab.output.renderOutput(dataTable, element);\n",
              "          const docLink = document.createElement('div');\n",
              "          docLink.innerHTML = docLinkHtml;\n",
              "          element.appendChild(docLink);\n",
              "        }\n",
              "      </script>\n",
              "    </div>\n",
              "  </div>\n",
              "  "
            ]
          },
          "metadata": {},
          "execution_count": 24
        }
      ]
    },
    {
      "cell_type": "code",
      "source": [
        "for col in df.columns:\n",
        "    if df[col].dtype == 'object':\n",
        "        try:\n",
        "            df[col] = pd.to_datetime(df[col])\n",
        "        except ValueError:\n",
        "            pass\n",
        "print(df.dtypes)"
      ],
      "metadata": {
        "colab": {
          "base_uri": "https://localhost:8080/"
        },
        "id": "oyWFMfnpP3LT",
        "outputId": "754ca7b5-ee6f-46c6-f7e4-d9f80278c5d6"
      },
      "execution_count": 25,
      "outputs": [
        {
          "output_type": "stream",
          "name": "stdout",
          "text": [
            "adiponectin       float64\n",
            "age                  bool\n",
            "bmi               float64\n",
            "classification      int64\n",
            "glucose             int64\n",
            "homa              float64\n",
            "insulin           float64\n",
            "leptin            float64\n",
            "mcp_1             float64\n",
            "resistin          float64\n",
            "dtype: object\n"
          ]
        }
      ]
    },
    {
      "cell_type": "code",
      "source": [
        "for col in df.columns:\n",
        "    miss = df[col].isnull().sum()\n",
        "    if miss>0:\n",
        "        print(\"{} has {} missing value(s)\".format(col,miss))\n",
        "    else:\n",
        "        print(\"{} has NO missing value!\".format(col))\n",
        "\n"
      ],
      "metadata": {
        "colab": {
          "base_uri": "https://localhost:8080/"
        },
        "id": "ryRfGoyuP-m5",
        "outputId": "31b7ec32-9cd5-4ea9-a9a4-d0cf2aaacdb0"
      },
      "execution_count": 27,
      "outputs": [
        {
          "output_type": "stream",
          "name": "stdout",
          "text": [
            "adiponectin has NO missing value!\n",
            "age has NO missing value!\n",
            "bmi has NO missing value!\n",
            "classification has NO missing value!\n",
            "glucose has NO missing value!\n",
            "homa has NO missing value!\n",
            "insulin has NO missing value!\n",
            "leptin has NO missing value!\n",
            "mcp_1 has NO missing value!\n",
            "resistin has NO missing value!\n"
          ]
        }
      ]
    },
    {
      "cell_type": "markdown",
      "source": [
        "**#8.Report Accuracy of your trained ML Model.**"
      ],
      "metadata": {
        "id": "VB5CBNMZQEuz"
      }
    },
    {
      "cell_type": "code",
      "source": [
        "import numpy as np\n",
        "from sklearn.metrics import balanced_accuracy_score\n",
        "\n",
        "#define array of actual classes\n",
        "actual = np.repeat([1, 0], repeats=[20, 380])\n",
        "\n",
        "#define array of predicted classes\n",
        "pred = np.repeat([1, 0, 1, 0], repeats=[15, 5, 5, 375])\n",
        "\n",
        "#calculate balanced accuracy score\n",
        "balanced_accuracy_score(actual, pred)\n",
        "\n",
        "0.868421052631579"
      ],
      "metadata": {
        "colab": {
          "base_uri": "https://localhost:8080/"
        },
        "id": "_21_AngdQJ4i",
        "outputId": "dcf64755-7e55-415b-b304-43c5c4146798"
      },
      "execution_count": 26,
      "outputs": [
        {
          "output_type": "execute_result",
          "data": {
            "text/plain": [
              "0.868421052631579"
            ]
          },
          "metadata": {},
          "execution_count": 26
        }
      ]
    },
    {
      "cell_type": "code",
      "source": [
        "from sklearn.datasets import make_classification\n",
        "from sklearn.model_selection import train_test_split\n",
        "from sklearn.metrics import accuracy_score\n",
        "from sklearn.linear_model import LogisticRegression\n",
        "nb_samples = 1000\n",
        "x, y = make_classification(n_samples=nb_samples, n_features=2, n_informative=2, n_redundant=0, n_clusters_per_class=1)\n",
        "xtrain, xtest, ytrain, ytest = train_test_split(x, y, test_size=0.2, random_state=42)\n",
        "model = LogisticRegression()\n",
        "model.fit(xtrain, ytrain)"
      ],
      "metadata": {
        "colab": {
          "base_uri": "https://localhost:8080/",
          "height": 75
        },
        "id": "8UZRfCHOQJ0N",
        "outputId": "65d353c2-47d0-49ad-d1d4-fa70599491f1"
      },
      "execution_count": 28,
      "outputs": [
        {
          "output_type": "execute_result",
          "data": {
            "text/plain": [
              "LogisticRegression()"
            ],
            "text/html": [
              "<style>#sk-container-id-3 {color: black;background-color: white;}#sk-container-id-3 pre{padding: 0;}#sk-container-id-3 div.sk-toggleable {background-color: white;}#sk-container-id-3 label.sk-toggleable__label {cursor: pointer;display: block;width: 100%;margin-bottom: 0;padding: 0.3em;box-sizing: border-box;text-align: center;}#sk-container-id-3 label.sk-toggleable__label-arrow:before {content: \"▸\";float: left;margin-right: 0.25em;color: #696969;}#sk-container-id-3 label.sk-toggleable__label-arrow:hover:before {color: black;}#sk-container-id-3 div.sk-estimator:hover label.sk-toggleable__label-arrow:before {color: black;}#sk-container-id-3 div.sk-toggleable__content {max-height: 0;max-width: 0;overflow: hidden;text-align: left;background-color: #f0f8ff;}#sk-container-id-3 div.sk-toggleable__content pre {margin: 0.2em;color: black;border-radius: 0.25em;background-color: #f0f8ff;}#sk-container-id-3 input.sk-toggleable__control:checked~div.sk-toggleable__content {max-height: 200px;max-width: 100%;overflow: auto;}#sk-container-id-3 input.sk-toggleable__control:checked~label.sk-toggleable__label-arrow:before {content: \"▾\";}#sk-container-id-3 div.sk-estimator input.sk-toggleable__control:checked~label.sk-toggleable__label {background-color: #d4ebff;}#sk-container-id-3 div.sk-label input.sk-toggleable__control:checked~label.sk-toggleable__label {background-color: #d4ebff;}#sk-container-id-3 input.sk-hidden--visually {border: 0;clip: rect(1px 1px 1px 1px);clip: rect(1px, 1px, 1px, 1px);height: 1px;margin: -1px;overflow: hidden;padding: 0;position: absolute;width: 1px;}#sk-container-id-3 div.sk-estimator {font-family: monospace;background-color: #f0f8ff;border: 1px dotted black;border-radius: 0.25em;box-sizing: border-box;margin-bottom: 0.5em;}#sk-container-id-3 div.sk-estimator:hover {background-color: #d4ebff;}#sk-container-id-3 div.sk-parallel-item::after {content: \"\";width: 100%;border-bottom: 1px solid gray;flex-grow: 1;}#sk-container-id-3 div.sk-label:hover label.sk-toggleable__label {background-color: #d4ebff;}#sk-container-id-3 div.sk-serial::before {content: \"\";position: absolute;border-left: 1px solid gray;box-sizing: border-box;top: 0;bottom: 0;left: 50%;z-index: 0;}#sk-container-id-3 div.sk-serial {display: flex;flex-direction: column;align-items: center;background-color: white;padding-right: 0.2em;padding-left: 0.2em;position: relative;}#sk-container-id-3 div.sk-item {position: relative;z-index: 1;}#sk-container-id-3 div.sk-parallel {display: flex;align-items: stretch;justify-content: center;background-color: white;position: relative;}#sk-container-id-3 div.sk-item::before, #sk-container-id-3 div.sk-parallel-item::before {content: \"\";position: absolute;border-left: 1px solid gray;box-sizing: border-box;top: 0;bottom: 0;left: 50%;z-index: -1;}#sk-container-id-3 div.sk-parallel-item {display: flex;flex-direction: column;z-index: 1;position: relative;background-color: white;}#sk-container-id-3 div.sk-parallel-item:first-child::after {align-self: flex-end;width: 50%;}#sk-container-id-3 div.sk-parallel-item:last-child::after {align-self: flex-start;width: 50%;}#sk-container-id-3 div.sk-parallel-item:only-child::after {width: 0;}#sk-container-id-3 div.sk-dashed-wrapped {border: 1px dashed gray;margin: 0 0.4em 0.5em 0.4em;box-sizing: border-box;padding-bottom: 0.4em;background-color: white;}#sk-container-id-3 div.sk-label label {font-family: monospace;font-weight: bold;display: inline-block;line-height: 1.2em;}#sk-container-id-3 div.sk-label-container {text-align: center;}#sk-container-id-3 div.sk-container {/* jupyter's `normalize.less` sets `[hidden] { display: none; }` but bootstrap.min.css set `[hidden] { display: none !important; }` so we also need the `!important` here to be able to override the default hidden behavior on the sphinx rendered scikit-learn.org. See: https://github.com/scikit-learn/scikit-learn/issues/21755 */display: inline-block !important;position: relative;}#sk-container-id-3 div.sk-text-repr-fallback {display: none;}</style><div id=\"sk-container-id-3\" class=\"sk-top-container\"><div class=\"sk-text-repr-fallback\"><pre>LogisticRegression()</pre><b>In a Jupyter environment, please rerun this cell to show the HTML representation or trust the notebook. <br />On GitHub, the HTML representation is unable to render, please try loading this page with nbviewer.org.</b></div><div class=\"sk-container\" hidden><div class=\"sk-item\"><div class=\"sk-estimator sk-toggleable\"><input class=\"sk-toggleable__control sk-hidden--visually\" id=\"sk-estimator-id-3\" type=\"checkbox\" checked><label for=\"sk-estimator-id-3\" class=\"sk-toggleable__label sk-toggleable__label-arrow\">LogisticRegression</label><div class=\"sk-toggleable__content\"><pre>LogisticRegression()</pre></div></div></div></div></div>"
            ]
          },
          "metadata": {},
          "execution_count": 28
        }
      ]
    },
    {
      "cell_type": "code",
      "source": [
        "print(accuracy_score(ytest, model.predict(xtest)))"
      ],
      "metadata": {
        "colab": {
          "base_uri": "https://localhost:8080/"
        },
        "id": "e77osbJ8QJyH",
        "outputId": "ad8ac94c-af59-4626-b5ef-1e0b829efd94"
      },
      "execution_count": 32,
      "outputs": [
        {
          "output_type": "stream",
          "name": "stdout",
          "text": [
            "0.955\n"
          ]
        }
      ]
    },
    {
      "cell_type": "code",
      "source": [
        "from sklearn.linear_model import LogisticRegression\n",
        "\n",
        "logreg = LogisticRegression()\n",
        "logreg.fit(X_train, y_train)\n",
        "predictions1 = logreg.predict(X_test)"
      ],
      "metadata": {
        "colab": {
          "base_uri": "https://localhost:8080/"
        },
        "id": "Kb1hPN6rQcBZ",
        "outputId": "c74c1863-fbdc-4f91-a83d-f2b3c885f335"
      },
      "execution_count": 29,
      "outputs": [
        {
          "output_type": "stream",
          "name": "stderr",
          "text": [
            "/usr/local/lib/python3.9/dist-packages/sklearn/linear_model/_logistic.py:458: ConvergenceWarning: lbfgs failed to converge (status=1):\n",
            "STOP: TOTAL NO. of ITERATIONS REACHED LIMIT.\n",
            "\n",
            "Increase the number of iterations (max_iter) or scale the data as shown in:\n",
            "    https://scikit-learn.org/stable/modules/preprocessing.html\n",
            "Please also refer to the documentation for alternative solver options:\n",
            "    https://scikit-learn.org/stable/modules/linear_model.html#logistic-regression\n",
            "  n_iter_i = _check_optimize_result(\n"
          ]
        }
      ]
    },
    {
      "cell_type": "code",
      "source": [
        "from sklearn.metrics import confusion_matrix, classification_report\n",
        "\n",
        "print(\"Confusion Matrix: \\n\", confusion_matrix(y_test, predictions1))\n",
        "print('\\n')\n",
        "print(classification_report(y_test, predictions1))"
      ],
      "metadata": {
        "colab": {
          "base_uri": "https://localhost:8080/"
        },
        "id": "8iotmKNXQgGI",
        "outputId": "72ee34d9-2d0c-48b8-d378-e64b17dccc57"
      },
      "execution_count": 30,
      "outputs": [
        {
          "output_type": "stream",
          "name": "stdout",
          "text": [
            "Confusion Matrix: \n",
            " [[1 2]\n",
            " [0 3]]\n",
            "\n",
            "\n",
            "              precision    recall  f1-score   support\n",
            "\n",
            "           1       1.00      0.33      0.50         3\n",
            "           2       0.60      1.00      0.75         3\n",
            "\n",
            "    accuracy                           0.67         6\n",
            "   macro avg       0.80      0.67      0.62         6\n",
            "weighted avg       0.80      0.67      0.62         6\n",
            "\n"
          ]
        }
      ]
    },
    {
      "cell_type": "code",
      "source": [
        "from sklearn.metrics import accuracy_score\n",
        "\n",
        "logreg_acc = accuracy_score(y_test, predictions1)\n",
        "print(\"Accuracy of the Logistic Regression Model is: \", logreg_acc)"
      ],
      "metadata": {
        "colab": {
          "base_uri": "https://localhost:8080/"
        },
        "id": "rV6sTj_BQj5e",
        "outputId": "6aeafd00-ba68-49a9-96b7-5e1c640fda87"
      },
      "execution_count": 31,
      "outputs": [
        {
          "output_type": "stream",
          "name": "stdout",
          "text": [
            "Accuracy of the Logistic Regression Model is:  0.6666666666666666\n"
          ]
        }
      ]
    }
  ]
}